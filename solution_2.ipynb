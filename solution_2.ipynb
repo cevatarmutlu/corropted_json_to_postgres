{
 "cells": [
  {
   "cell_type": "code",
   "execution_count": 5,
   "metadata": {},
   "outputs": [
    {
     "name": "stdout",
     "output_type": "stream",
     "text": [
      "\n",
      "\n",
      "len values----------------------\n",
      "\n",
      "\n",
      "len values----------------------\n"
     ]
    }
   ],
   "source": [
    "import re\n",
    "import json\n",
    "\n",
    "corrupted_json_file = open(\"src/files/corrupted-file.json\")\n",
    "corrupted_json_str = corrupted_json_file.read()\n",
    "corrupted_json_file.close()\n",
    "\n",
    "remove_newline = re.sub('\\n','', corrupted_json_str)\n",
    "\n",
    "temp = open(\"temp_file.json\", \"w\")\n",
    "temp.write(\"[\" + remove_newline + \"]\")\n",
    "temp.close()\n",
    "\n",
    "\n",
    "tranform_json = json.load(open(\"temp_file.json\", \"r\"))\n",
    "\n",
    "for i in tranform_json:\n",
    "    # print(i[\"content-spec\"])\n",
    "\n",
    "    # print(i[\"device\"][\"deviceID\"])\n",
    "\n",
    "    # print(i[\"device\"][\"metaData\"][\"cloudGateway\"][\"subscriptionTopic\"])\n",
    "    # print(i[\"device\"][\"metaData\"][\"cloudGateway\"][\"awsTarget\"])\n",
    "\n",
    "    # print(i[\"device\"][\"metaData\"][\"cloudGateway\"][\"hostName\"])\n",
    "\n",
    "    # print(i[\"device\"][\"metaData\"][\"cloudGateway\"][\"splitMeasurements\"])\n",
    "\n",
    "    # print(\"\\n\\nsensor_names----------------------\")\n",
    "    # for j in i[\"measurements\"]:\n",
    "    #     sensor_names = list(j[\"series\"].keys())[1]\n",
    "    #     print(sensor_names)\n",
    "    \n",
    "    print(\"\\n\\nlen values----------------------\")\n",
    "    for j in i[\"measurements\"]:\n",
    "        dollar_times = j[\"series\"][\"$_time\"]\n",
    "        sensor_values = j[\"series\"][list(j[\"series\"].keys())[1]]\n",
    "        if len(dollar_times) != len(sensor_values):\n",
    "            print(\"not equal\", len(dollar_times), len(sensor_values))\n"
   ]
  },
  {
   "cell_type": "code",
   "execution_count": 6,
   "metadata": {},
   "outputs": [],
   "source": [
    "for i in tranform_json:\n",
    "    for j in i[\"measurements\"]:\n",
    "        # print(list(j[\"series\"].items())[0][1])\n",
    "        sensor_name = list(j[\"series\"].keys())[1]\n",
    "\n",
    "        if \".ab\" in sensor_name:\n",
    "            new_sensor_name = sensor_name.replace(\".ab\", \"\")\n",
    "            sensor_values = j[\"series\"][sensor_name]\n",
    "            del j[\"series\"][sensor_name]\n",
    "            j[\"series\"][new_sensor_name] = sensor_values\n",
    "\n",
    "arr = []\n",
    "\n",
    "for i in tranform_json:\n",
    "    for j in i[\"measurements\"]:\n",
    "        ts = j[\"ts\"]\n",
    "        dollar_times = j[\"series\"][\"$_time\"]\n",
    "        sensor_name = list(j[\"series\"].keys())[1]\n",
    "        sensor_values = j[\"series\"][sensor_name]\n",
    "        zipped_arr = zip(\n",
    "            [ts for i in range(len(dollar_times))],\n",
    "            [sensor_name for i in range(len(dollar_times))],\n",
    "            dollar_times,\n",
    "            sensor_values\n",
    "        )\n",
    "        arr += zipped_arr\n"
   ]
  },
  {
   "cell_type": "code",
   "execution_count": 7,
   "metadata": {},
   "outputs": [],
   "source": [
    "import psycopg2\n",
    "\n",
    "conn = psycopg2.connect(\n",
    "    user=\"ntt\",\n",
    "    password=\"ntt\",\n",
    "    host=\"127.0.0.1\",\n",
    "    port=\"5432\",\n",
    "    database=\"ntt\"\n",
    ")"
   ]
  },
  {
   "cell_type": "code",
   "execution_count": 8,
   "metadata": {},
   "outputs": [],
   "source": [
    "table_name = 'table2'\n",
    "\n",
    "cur = conn.cursor()\n",
    "\n",
    "cur.execute(f\"\"\"\n",
    "CREATE TABLE public.{table_name} (\n",
    "\t\"timestamp\" varchar(255) NULL,\n",
    "    sensor_name varchar(255) NULL,\n",
    "\tdollar_time varchar(255) NULL,\n",
    "\tsensor_value varchar(255) NULL\n",
    ");\n",
    "\"\"\")\n",
    "\n",
    "for i in arr:\n",
    "    cur.execute(f\"INSERT INTO {table_name} VALUES ('{i[0]}', '{i[1]}', '{i[2]}', '{i[3]}')\")\n",
    "\n",
    "\n",
    "conn.commit()\n",
    "cur.close()\n",
    "conn.close()"
   ]
  }
 ],
 "metadata": {
  "kernelspec": {
   "display_name": ".venv",
   "language": "python",
   "name": "python3"
  },
  "language_info": {
   "codemirror_mode": {
    "name": "ipython",
    "version": 3
   },
   "file_extension": ".py",
   "mimetype": "text/x-python",
   "name": "python",
   "nbconvert_exporter": "python",
   "pygments_lexer": "ipython3",
   "version": "3.10.12"
  },
  "orig_nbformat": 4
 },
 "nbformat": 4,
 "nbformat_minor": 2
}
